{
  "cells": [
    {
      "cell_type": "code",
      "execution_count": 1,
      "metadata": {
        "id": "SiR30JqUwhA8"
      },
      "outputs": [],
      "source": [
        "import numpy as np\n",
        "import pandas as pd"
      ]
    },
    {
      "cell_type": "code",
      "execution_count": 2,
      "metadata": {
        "id": "2EaN1hnGwjMv"
      },
      "outputs": [],
      "source": [
        "\n",
        "def train_test_split(X, y, test_size=0.2):\n",
        "    split_index = int(len(X) * (1 - test_size))\n",
        "\n",
        "    X_train = X[:split_index]\n",
        "    X_test = X[split_index:]\n",
        "\n",
        "    y_train = y[:split_index]\n",
        "    y_test = y[split_index:]\n",
        "\n",
        "    return X_train, X_test, y_train, y_test\n"
      ]
    },
    {
      "cell_type": "code",
      "execution_count": 3,
      "metadata": {
        "id": "XPp_zTj9-sjn"
      },
      "outputs": [],
      "source": [
        "\n",
        "class NeuralNetwork:\n",
        "    def __init__(self, input_size, hidden_size, output_size, learning_rate=0.01, epochs=1000):\n",
        "        self.input_size = input_size\n",
        "        self.hidden_size = hidden_size\n",
        "        self.output_size = output_size\n",
        "        self.learning_rate = learning_rate\n",
        "        self.epochs = epochs\n",
        "\n",
        "        # Initialize weights and biases\n",
        "        self.weights_input_hidden = np.random.randn(self.input_size, self.hidden_size)\n",
        "        self.bias_hidden = np.zeros((1, self.hidden_size))\n",
        "        self.weights_hidden_output = np.random.randn(self.hidden_size, self.output_size)\n",
        "        self.bias_output = np.zeros((1, self.output_size))\n",
        "\n",
        "    def sigmoid(self, z):\n",
        "        return 1 / (1 + np.exp(-z))\n",
        "\n",
        "    def sigmoid_derivative(self, a):\n",
        "        return a * (1 - a)\n",
        "\n",
        "    def fit(self, X, y):\n",
        "        for epoch in range(self.epochs):\n",
        "            # Forward propagation\n",
        "            hidden_layer_input = np.dot(X, self.weights_input_hidden) + self.bias_hidden\n",
        "            hidden_layer_output = self.sigmoid(hidden_layer_input)\n",
        "\n",
        "            output_layer_input = np.dot(hidden_layer_output, self.weights_hidden_output) + self.bias_output\n",
        "            predicted_output = self.sigmoid(output_layer_input)\n",
        "\n",
        "            # Backward propagation\n",
        "            error = y - predicted_output\n",
        "            output_delta = error * self.sigmoid_derivative(predicted_output)\n",
        "\n",
        "            hidden_error = output_delta.dot(self.weights_hidden_output.T)\n",
        "            hidden_delta = hidden_error * self.sigmoid_derivative(hidden_layer_output)\n",
        "\n",
        "            # Update weights and biases\n",
        "            self.weights_hidden_output += hidden_layer_output.T.dot(output_delta) * self.learning_rate\n",
        "            self.bias_output += np.sum(output_delta, axis=0, keepdims=True) * self.learning_rate\n",
        "            self.weights_input_hidden += X.T.dot(hidden_delta) * self.learning_rate\n",
        "            self.bias_hidden += np.sum(hidden_delta, axis=0, keepdims=True) * self.learning_rate\n",
        "\n",
        "            # Print epoch and training accuracy every 100 epochs\n",
        "            if epoch % 100 == 0:\n",
        "                X_train_prediction = self.predict(X)\n",
        "                training_data_accuracy = np.mean(X_train_prediction == y.reshape(-1, 1))\n",
        "                print(f'Epoch {epoch}, Training Accuracy: {training_data_accuracy*100:.2f} %')\n",
        "\n",
        "\n",
        "\n",
        "\n",
        "    def predict(self, X):\n",
        "        hidden_layer_input = np.dot(X, self.weights_input_hidden) + self.bias_hidden\n",
        "        hidden_layer_output = self.sigmoid(hidden_layer_input)\n",
        "\n",
        "        output_layer_input = np.dot(hidden_layer_output, self.weights_hidden_output) + self.bias_output\n",
        "        predicted_output = self.sigmoid(output_layer_input)\n",
        "\n",
        "        return np.round(predicted_output)\n",
        "\n",
        "\n",
        "\n",
        "\n"
      ]
    },
    {
      "cell_type": "code",
      "execution_count": 4,
      "metadata": {
        "id": "2BXWsBZbxAuG"
      },
      "outputs": [],
      "source": [
        "#Read input data\n",
        "sonar_data = pd.read_csv('sonar_data.csv', header=None)"
      ]
    },
    {
      "cell_type": "code",
      "execution_count": 5,
      "metadata": {
        "id": "gdzRXEsNxFSO"
      },
      "outputs": [],
      "source": [
        "# Separating data and Labels\n",
        "X = sonar_data.drop(columns=60, axis=1)\n",
        "Y = sonar_data[60]\n",
        "\n",
        "\n",
        "\n",
        "\n",
        "\n",
        "# Convert 'R' to 0 and 'M' to 1 in the target variable\n",
        "Y = Y.map({'R': 0, 'M': 1})\n",
        "\n"
      ]
    },
    {
      "cell_type": "code",
      "execution_count": 6,
      "metadata": {
        "id": "VmCz3pg_xMJu"
      },
      "outputs": [],
      "source": [
        "# Training and Test data\n",
        "X_train, X_test, Y_train, Y_test = train_test_split(X, Y, test_size=0.1)\n"
      ]
    },
    {
      "cell_type": "code",
      "execution_count": 9,
      "metadata": {
        "colab": {
          "base_uri": "https://localhost:8080/"
        },
        "id": "yxpvyThgxRhJ",
        "outputId": "6ebc433d-2da4-4eba-b9e6-6d46418feaa8"
      },
      "outputs": [
        {
          "name": "stdout",
          "output_type": "stream",
          "text": [
            "Epoch 0, Training Accuracy: 47.92 %\n",
            "Epoch 100, Training Accuracy: 73.44 %\n",
            "Epoch 200, Training Accuracy: 80.21 %\n",
            "Epoch 300, Training Accuracy: 82.29 %\n",
            "Epoch 400, Training Accuracy: 84.38 %\n",
            "Epoch 500, Training Accuracy: 86.98 %\n",
            "Epoch 600, Training Accuracy: 89.58 %\n",
            "Epoch 700, Training Accuracy: 90.62 %\n",
            "Epoch 800, Training Accuracy: 91.15 %\n",
            "Epoch 900, Training Accuracy: 92.19 %\n",
            "Epoch 1000, Training Accuracy: 92.19 %\n",
            "Epoch 1100, Training Accuracy: 92.19 %\n",
            "Epoch 1200, Training Accuracy: 92.19 %\n",
            "Epoch 1300, Training Accuracy: 94.27 %\n",
            "Epoch 1400, Training Accuracy: 94.79 %\n",
            "Epoch 1500, Training Accuracy: 95.31 %\n",
            "Epoch 1600, Training Accuracy: 95.31 %\n",
            "Epoch 1700, Training Accuracy: 96.35 %\n",
            "Epoch 1800, Training Accuracy: 96.35 %\n",
            "Epoch 1900, Training Accuracy: 96.88 %\n",
            "Epoch 2000, Training Accuracy: 97.40 %\n"
          ]
        }
      ],
      "source": [
        "# Model Training - Neural Network\n",
        "input_size = X_train.shape[1]\n",
        "hidden_size = 24\n",
        "output_size = 1\n",
        "learning_rate = 0.01\n",
        "epochs = 2001\n",
        "\n",
        "\n",
        "\n",
        "model = NeuralNetwork(input_size, hidden_size, output_size, learning_rate, epochs)\n",
        "model.fit(X_train.values, Y_train.values.reshape(-1, 1))  # Ensure Y_train is of shape (m, 1)\n",
        "\n"
      ]
    },
    {
      "cell_type": "code",
      "execution_count": 13,
      "metadata": {
        "colab": {
          "base_uri": "https://localhost:8080/"
        },
        "id": "pbRD6ITIB2Ll",
        "outputId": "afbfb058-5b71-4315-8ac0-27acdc598622"
      },
      "outputs": [
        {
          "name": "stdout",
          "output_type": "stream",
          "text": [
            "\n",
            "Accuracy on training data :  97.40 %\n",
            "Accuracy on test data :  90.91 %\n",
            "\n",
            "Some of starting attributes for selected choice from dataset are:\n",
            "\n",
            "0    0.0522\n",
            "1    0.0437\n",
            "2    0.0180\n",
            "3    0.0292\n",
            "4    0.0351\n",
            "Name: 205, dtype: float64\n",
            "[[0.]]\n",
            "\n",
            "\n",
            "The object is a ROCK\n"
          ]
        }
      ],
      "source": [
        "# Accuracy on training data\n",
        "X_train_prediction = model.predict(X_train.values)\n",
        "training_data_accuracy = np.mean(X_train_prediction == Y_train.values.reshape(-1, 1))\n",
        "print(f'\\nAccuracy on training data :  {training_data_accuracy*100:.2f} %')\n",
        "\n",
        "\n",
        "\n",
        "\n",
        "\n",
        "\n",
        "# Accuracy on test data\n",
        "X_test_prediction = model.predict(X_test.values)\n",
        "test_data_accuracy = np.mean(X_test_prediction == Y_test.values.reshape(-1, 1))\n",
        "print(f'Accuracy on test data :  {test_data_accuracy*100:.2f} %')\n",
        "\n",
        "\n",
        "\n",
        "\n",
        "\n",
        "\n",
        "\n",
        "\n",
        "choice=int(input(\"Enter the row for testing ? (between 0-20)\"))\n",
        "\n",
        "\n",
        "test_input_row = X_test.iloc[choice, :]\n",
        "\n",
        "print(\"\\nSome of starting attributes for selected choice from dataset are:\\n\")\n",
        "print(test_input_row.head())\n",
        "\n",
        "\n",
        "\n",
        "test_input_reshaped = test_input_row.values.reshape(1, -1)\n",
        "\n",
        "\n",
        "\n",
        "\n",
        "\n",
        "\n",
        "\n",
        "\n",
        "\n",
        "prediction = model.predict(test_input_reshaped)\n",
        "print(prediction)\n",
        "\n",
        "\n",
        "\n",
        "print(\"\\n\")\n",
        "\n",
        "\n",
        "\n",
        "if prediction[0] == 1:\n",
        "    print('The object is a MINE')\n",
        "else:\n",
        "    print('The object is a ROCK')\n"
      ]
    },
    {
      "cell_type": "code",
      "execution_count": null,
      "metadata": {
        "id": "NU-NqjLZyD-N"
      },
      "outputs": [],
      "source": []
    }
  ],
  "metadata": {
    "colab": {
      "provenance": []
    },
    "kernelspec": {
      "display_name": "Python 3",
      "name": "python3"
    },
    "language_info": {
      "codemirror_mode": {
        "name": "ipython",
        "version": 3
      },
      "file_extension": ".py",
      "mimetype": "text/x-python",
      "name": "python",
      "nbconvert_exporter": "python",
      "pygments_lexer": "ipython3",
      "version": "3.10.12"
    }
  },
  "nbformat": 4,
  "nbformat_minor": 0
}
